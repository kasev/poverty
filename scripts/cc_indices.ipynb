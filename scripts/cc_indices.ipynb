{
 "cells": [
  {
   "cell_type": "code",
   "execution_count": 1,
   "metadata": {
    "collapsed": true
   },
   "outputs": [],
   "source": [
    "import requests\n",
    "import io\n",
    "import gzip, zlib"
   ]
  },
  {
   "cell_type": "code",
   "execution_count": 2,
   "outputs": [],
   "source": [
    "\n",
    "url = \"https://commoncrawl.s3.amazonaws.com/cc-index/collections/CC-MAIN-2021-43/indexes/cdx-00000.gz\"\n",
    "resp = requests.get(url)"
   ],
   "metadata": {
    "collapsed": false,
    "pycharm": {
     "name": "#%%\n"
    }
   }
  },
  {
   "cell_type": "code",
   "execution_count": 32,
   "outputs": [
    {
     "data": {
      "text/plain": "b'\\x1f\\x8b\\x08\\x00\\x00\\x00\\x00\\x00\\x00\\x03\\xdc\\xbdio\\xdbH\\xbe\\xe8\\xfd\\xfe~\\x8a\\x83\\x01\\xee\\x00\\x83\\x1b;d\\xad\\xe4\\x01\\x1a\\x07\\xdc\\xf7}\\xe7\\x9b\\x86b\\xab\\x13M\\x1c\\xcbc)\\xbd\\x9c\\x07\\xcfw\\xbfE9\\x89\\xa9\\xa2dI\\x94\\x18\\xcd\\xb9h\\xa4c:bI\\xfa\\xffXU\\xff\\xbd\\x84w\\xe2?\\xde?/?,\\xd7\\xab\\xdb\\xf5\\x9f\\xeb\\xff\\x00\\x02\\x10EA\\x94'"
     },
     "execution_count": 32,
     "metadata": {},
     "output_type": "execute_result"
    }
   ],
   "source": [
    "# this way we obtain gzip encdoded bytes data\n",
    "resp.content[:100]"
   ],
   "metadata": {
    "collapsed": false,
    "pycharm": {
     "name": "#%%\n"
    }
   }
  },
  {
   "cell_type": "code",
   "execution_count": 30,
   "outputs": [],
   "source": [
    "# decode them into\n",
    "data_bytes=zlib.decompress(resp.content, 16+zlib.MAX_WBITS)"
   ],
   "metadata": {
    "collapsed": false,
    "pycharm": {
     "name": "#%%\n"
    }
   }
  },
  {
   "cell_type": "code",
   "execution_count": 33,
   "outputs": [
    {
     "data": {
      "text/plain": "'0,1)/robots.txt 20211018081209 {\"url\": \"http://1.0/robots.txt\", \"mime\": \"text/html\", \"mime-detected\": \"text/html\", \"status\": \"403\", \"digest\": \"V46LKE3W2EWAFYDKZ6PX26HYP6RRA5DT\", \"length\": \"2055\", \"offset\": \"877\", \"filename\": \"crawl-data/CC-MAIN-2021-43/segments/1634323585199.76/robotstxt/CC-MAIN-20211018062819-20211018092819-00552.warc.gz\"}\\n0,1)/wp-content/uploads/2021/03/nacion-colectivo-cat.pdf 20211018081209 {\"url\": \"http://1.0/wp-content/uploads/2021/03/Nacion-colectivo-CAT.pdf\", \"mime\": \"text/html\", \"mime-detected\": \"text/html\", \"status\": \"403\", \"digest\": \"7YQHZ6MRSJJQA6LFMORQSN72SLHSHRFT\", \"length\": \"2085\", \"offset\": \"4344\", \"filename\": \"crawl-data/CC-MAIN-2021-43/segments/1634323585199.76/crawldiagnostics/CC-MAIN-20211018062819-20211018092819-00008.warc.gz\"}\\n0,107,209,134)/ 20211020192038 {\"url\": \"https://134.209.107.0/\", \"mime\": \"text/html\", \"mime-detected\": \"application/xhtml+xml\", \"status\": \"200\", \"digest\": \"UVRL3RHCOS5GSBYTQ3O4ZIWHSBVUDHCG\", \"length\": \"13671\", \"offset\": \"164'"
     },
     "execution_count": 33,
     "metadata": {},
     "output_type": "execute_result"
    }
   ],
   "source": [
    "data_str = data_bytes.decode()\n",
    "data_str[:1000]"
   ],
   "metadata": {
    "collapsed": false,
    "pycharm": {
     "name": "#%%\n"
    }
   }
  },
  {
   "cell_type": "code",
   "execution_count": null,
   "outputs": [],
   "source": [],
   "metadata": {
    "collapsed": false,
    "pycharm": {
     "name": "#%%\n"
    }
   }
  }
 ],
 "metadata": {
  "kernelspec": {
   "name": "venv3_9",
   "language": "python",
   "display_name": "venv3_9"
  },
  "language_info": {
   "codemirror_mode": {
    "name": "ipython",
    "version": 2
   },
   "file_extension": ".py",
   "mimetype": "text/x-python",
   "name": "python",
   "nbconvert_exporter": "python",
   "pygments_lexer": "ipython2",
   "version": "2.7.6"
  }
 },
 "nbformat": 4,
 "nbformat_minor": 0
}